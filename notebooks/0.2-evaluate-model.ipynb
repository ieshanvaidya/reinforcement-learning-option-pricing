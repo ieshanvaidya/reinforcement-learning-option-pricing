{
 "cells": [
  {
   "cell_type": "code",
   "execution_count": null,
   "metadata": {},
   "outputs": [],
   "source": [
    "import os"
   ]
  },
  {
   "cell_type": "code",
   "execution_count": null,
   "metadata": {},
   "outputs": [],
   "source": [
    "os.chdir(os.path.split(os.getcwd())[0])"
   ]
  },
  {
   "cell_type": "code",
   "execution_count": null,
   "metadata": {},
   "outputs": [],
   "source": [
    "import numpy as np\n",
    "import matplotlib.pyplot as plt\n",
    "import gym\n",
    "from agent import *\n",
    "from optionpricing import *\n",
    "import yaml\n",
    "import torch\n",
    "from collections import defaultdict"
   ]
  },
  {
   "cell_type": "code",
   "execution_count": null,
   "metadata": {},
   "outputs": [],
   "source": [
    "import matplotlib.style as style"
   ]
  },
  {
   "cell_type": "code",
   "execution_count": null,
   "metadata": {},
   "outputs": [],
   "source": [
    "style.use('seaborn-poster')"
   ]
  },
  {
   "cell_type": "code",
   "execution_count": null,
   "metadata": {},
   "outputs": [],
   "source": [
    "experiment_folder = 'Nov7_DefaultArgs_MultiStrike_HighTrCost'"
   ]
  },
  {
   "cell_type": "code",
   "execution_count": null,
   "metadata": {},
   "outputs": [],
   "source": [
    "with open(os.path.join('experiments', experiment_folder, 'config.yaml'), 'r') as f:\n",
    "    args_dict = yaml.load(f, Loader = yaml.SafeLoader)"
   ]
  },
  {
   "cell_type": "code",
   "execution_count": null,
   "metadata": {},
   "outputs": [],
   "source": [
    "class Args:\n",
    "    def __init__(self, **kwargs):\n",
    "        self.__dict__.update(kwargs)"
   ]
  },
  {
   "cell_type": "code",
   "execution_count": null,
   "metadata": {},
   "outputs": [],
   "source": [
    "args = Args(**args_dict)"
   ]
  },
  {
   "cell_type": "code",
   "execution_count": null,
   "metadata": {},
   "outputs": [],
   "source": [
    "config = {\n",
    "        'S': 100,\n",
    "        'T': 10, # 10 days\n",
    "        'L': 1,\n",
    "        'm': 100, # L options for m stocks\n",
    "        'n': 0,\n",
    "        'K': [95, 96, 97, 98, 99, 100, 101, 102, 103, 104, 105],\n",
    "        'D': 5,\n",
    "        'mu': 0,\n",
    "        'sigma': 0.01,\n",
    "        'r': 0,\n",
    "        'ss': 5,\n",
    "        'kappa': 0.1,\n",
    "        'multiplier': args.trc_multiplier,\n",
    "        'ticksize': args.trc_ticksize,\n",
    "        'clip_low': 0,\n",
    "        'clip_high': 0\n",
    "        }\n",
    "\n",
    "env = OptionPricingEnv(config)\n",
    "env.configure()"
   ]
  },
  {
   "cell_type": "code",
   "execution_count": null,
   "metadata": {},
   "outputs": [],
   "source": [
    "device = torch.device('cuda:0' if torch.cuda.is_available() else 'cpu')\n",
    "ngpu = 1 if torch.cuda.is_available() else 0"
   ]
  },
  {
   "cell_type": "code",
   "execution_count": null,
   "metadata": {},
   "outputs": [],
   "source": [
    "def load_estimator(env, device, ngpu, experiment_folder, kind = 'best'):\n",
    "    state_shape = env.observation_space.shape\n",
    "    state_space_dim = state_shape[0] if len(state_shape) == 1 else state_shape\n",
    "    \n",
    "    estimator = Estimator(ngpu, state_space_dim, env.action_space.n)\n",
    "    if kind == 'best':\n",
    "        checkpoint = torch.load(os.path.join('experiments', experiment_folder, 'best.pth'), map_location = torch.device('cpu'))\n",
    "    elif kind == 'checkpoint':\n",
    "        checkpoint = torch.load(os.path.join('experiments', experiment_folder, 'checkpoint.pth'), map_location = torch.device('cpu'))\n",
    "    else:\n",
    "        raise ValueError('Invalid choice for kind')\n",
    "        \n",
    "    estimator.load_state_dict(checkpoint['estimator'])\n",
    "    estimator.eval()\n",
    "    \n",
    "    return estimator"
   ]
  },
  {
   "cell_type": "code",
   "execution_count": null,
   "metadata": {},
   "outputs": [],
   "source": [
    "def simulate_episode(env, device, estimator, policy = 'agent', seed = 1):\n",
    "    random.seed(seed)\n",
    "    np.random.seed(seed)\n",
    "    torch.manual_seed(seed)\n",
    "    state = torch.from_numpy(env.reset()).to(device)\n",
    "    history = defaultdict(list)\n",
    "    #history['delta'].append(env.delta)\n",
    "    #history['stock_pnl'].append(0)\n",
    "    #history['option_pnl'].append(0)\n",
    "    #history['total_pnl'].append(0)\n",
    "    #history['stock_value'].append(env.stock_value)\n",
    "    #history['option_value'].append(env.option_value)\n",
    "    #history['cash'].append(env.cash)\n",
    "    done = False\n",
    "    \n",
    "    while not done:\n",
    "        history['delta'].append(env.delta)\n",
    "        if policy == 'agent':\n",
    "            with torch.no_grad():\n",
    "                action = np.argmax(estimator(state).numpy())\n",
    "        elif policy == 'delta':\n",
    "            action = delta_neutral_policy(env)\n",
    "            \n",
    "        state, reward, done, info = env.step(action)\n",
    "        \n",
    "        history['reward'].append(reward)\n",
    "        history['n'].append(env.n)\n",
    "        history['stock_value'].append(env.stock_value)\n",
    "        history['option_value'].append(env.option_value)\n",
    "        history['cash'].append(env.cash)\n",
    "        #history['stock_pnl'].append(history['stock_value'][-1] - history['stock_value'][-2])\n",
    "        #history['option_pnl'].append(history['option_value'][-1] + history['cash'][-1] - history['option_value'][-2] - history['cash'][-2])\n",
    "        #history['total_pnl'].append(history['stock_pnl'] + history['option_pnl'])\n",
    "        \n",
    "        state = torch.from_numpy(state).to(device)\n",
    "        \n",
    "    return history"
   ]
  },
  {
   "cell_type": "code",
   "execution_count": null,
   "metadata": {},
   "outputs": [],
   "source": [
    "def delta_neutral_policy(env):\n",
    "    return env.inv_action_map[-1 * int(env.delta * (env.L * env.m)) - env.n]"
   ]
  },
  {
   "cell_type": "code",
   "execution_count": null,
   "metadata": {},
   "outputs": [],
   "source": [
    "estimator = load_estimator(env, device, ngpu, experiment_folder, 'best')"
   ]
  },
  {
   "cell_type": "code",
   "execution_count": null,
   "metadata": {},
   "outputs": [],
   "source": [
    "history = simulate_episode(env, device, estimator, 'agent', seed = 7)\n",
    "\n",
    "stock_pnl = np.array(history['stock_value'][1:]) - np.array(history['stock_value'][:-1])\n",
    "stock_pnl = np.insert(stock_pnl, 0, 0)\n",
    "\n",
    "option_pnl = np.array(history['option_value'][1:]) + np.array(history['cash'][1:]) - np.array(history['option_value'][:-1]) - np.array(history['cash'][:-1])\n",
    "option_pnl = np.insert(option_pnl, 0, 0)\n",
    "\n",
    "total_pnl = stock_pnl + option_pnl\n",
    "\n",
    "steps = np.arange(1, len(history['delta']) + 1, 1)\n",
    "\n",
    "fig, ax = plt.subplots(figsize = (12, 8), nrows = 2, ncols = 1, sharex = True)\n",
    "ax[0].plot(steps, np.array(history['delta']) * -env.L * env.m, color = 'green', label = 'delta', lw = 1.5)\n",
    "ax[0].plot(steps, history['n'], color = 'blue', label = 'n', lw = 1.5)\n",
    "ax[0].legend()\n",
    "#ax[1].plot(steps, history['cash'], color = 'red', label = 'cash', lw = 1.5)\n",
    "ax[1].plot(steps, history['reward'], color = 'blue', label = 'reward', lw = 1.5)\n",
    "ax[1].plot(steps, np.clip(history['reward'], -args.clip, args.clip), color = 'red', label = 'clipped', lw = 1.5)\n",
    "#ax.plot(steps, total_pnl, lw = 1.5, label = 'total pnl', color = 'red')\n",
    "ax[0].set_title(f'K: {env.K}')\n",
    "ax[1].set_xlabel('step')\n",
    "ax[0].set_ylabel('n')\n",
    "plt.legend()\n",
    "plt.show()"
   ]
  },
  {
   "cell_type": "code",
   "execution_count": null,
   "metadata": {},
   "outputs": [],
   "source": [
    "history = simulate_episode(env, device, estimator, 'delta', seed = 7)\n",
    "\n",
    "stock_pnl = np.array(history['stock_value'][1:]) - np.array(history['stock_value'][:-1])\n",
    "stock_pnl = np.insert(stock_pnl, 0, 0)\n",
    "\n",
    "option_pnl = np.array(history['option_value'][1:]) + np.array(history['cash'][1:]) - np.array(history['option_value'][:-1]) - np.array(history['cash'][:-1])\n",
    "option_pnl = np.insert(option_pnl, 0, 0)\n",
    "\n",
    "total_pnl = stock_pnl + option_pnl\n",
    "\n",
    "steps = np.arange(1, len(history['delta']) + 1, 1)\n",
    "\n",
    "fig, ax = plt.subplots(figsize = (12, 8), nrows = 2, ncols = 1, sharex = True)\n",
    "ax[0].plot(steps, np.array(history['delta']) * -env.L * env.m, color = 'green', label = 'delta', lw = 1.5)\n",
    "ax[0].plot(steps, history['n'], color = 'blue', label = 'n', lw = 1.5)\n",
    "ax[0].legend()\n",
    "#ax[1].plot(steps, history['cash'], color = 'red', label = 'cash', lw = 1.5)\n",
    "ax[1].plot(steps, history['reward'], color = 'blue', label = 'reward', lw = 1.5)\n",
    "ax[1].plot(steps, np.clip(history['reward'], -args.clip, args.clip), color = 'red', label = 'clipped', lw = 1.5)\n",
    "#ax.plot(steps, total_pnl, lw = 1.5, label = 'total pnl', color = 'red')\n",
    "ax[0].set_title(f'K: {env.K}')\n",
    "ax[1].set_xlabel('step')\n",
    "ax[0].set_ylabel('n')\n",
    "plt.legend()\n",
    "plt.show()"
   ]
  },
  {
   "cell_type": "markdown",
   "metadata": {},
   "source": [
    "## Evaluate State Space"
   ]
  },
  {
   "cell_type": "code",
   "execution_count": null,
   "metadata": {},
   "outputs": [],
   "source": [
    "def generate_state_space_data(env, device, estimator, data, variable = 'S'):\n",
    "    env.reset() # Only need S0 even though strike might be different\n",
    "    S0 = env.S0\n",
    "    \n",
    "    # Create input states\n",
    "    if variable == 'S':\n",
    "        S = data['S'].reshape(-1, 1) / S0\n",
    "        t = np.ones(S.shape) * data['t']\n",
    "        n = np.ones(S.shape) * data['n'] / env.high\n",
    "        K = np.ones(S.shape) * data['K'] / S0\n",
    "    \n",
    "    elif variable == 'n':\n",
    "        n = data['n'].reshape(-1, 1) / env.high\n",
    "        t = np.ones(n.shape) * data['t']\n",
    "        S = np.ones(n.shape) * data['S'] / S0\n",
    "        K = np.ones(n.shape) * data['K'] / S0\n",
    "    \n",
    "    elif variable == 't':\n",
    "        t = data['t'].reshape(-1, 1)\n",
    "        S = np.ones(t.shape) * data['S'] / S0\n",
    "        n = np.ones(t.shape) * data['n'] / env.high\n",
    "        K = np.ones(t.shape) * data['K'] / S0\n",
    "    \n",
    "    else:\n",
    "        raise ValueError\n",
    "        \n",
    "    state = np.hstack((S, t, n, K)).astype(np.float32)\n",
    "    state = torch.from_numpy(state).to(device)\n",
    "    with torch.no_grad():\n",
    "        action = np.argmax(estimator(state).numpy(), axis = 1)\n",
    "        \n",
    "    action = [env.action_map[a] for a in action]\n",
    "    \n",
    "    return action"
   ]
  },
  {
   "cell_type": "markdown",
   "metadata": {},
   "source": [
    "### List of Plots:\n",
    "1. Fixed `n`, discrete values of `t` and vary `S`\n",
    "2. Fixed `t`, discrete values of `n` and vary `S`\n",
    "3. Fixed `t`, discrete values of `S` and vary `n`\n",
    "4. Fixed `S`, discrete values of `t` and vary `n`\n",
    "5. Fixed `n`, discrete values of `S` and vary `t`\n",
    "6. Fixed `S`, discrete values of `n` and vary `t`"
   ]
  },
  {
   "cell_type": "code",
   "execution_count": null,
   "metadata": {},
   "outputs": [],
   "source": [
    "S = np.linspace(85, 115, 10000)\n",
    "t = [0.9, 0.7, 0.5,]\n",
    "n = -50\n",
    "K = 100\n",
    "colors = plt.cm.coolwarm(np.linspace(0, 1, len(t)))\n",
    "\n",
    "fig, ax = plt.subplots(figsize = (12, 8))\n",
    "for i, val in enumerate(t):\n",
    "    actions = generate_state_space_data(env, device, estimator, {'S': S, 't': val, 'n': n, 'K': K}, variable = 'S')\n",
    "    ax.plot(S, actions, lw = 1.5, label = f't: {val}', color = colors[i])\n",
    "ax.set_xlabel('S')\n",
    "ax.set_ylabel('action')\n",
    "#ax.set_ylim([-100, 100])\n",
    "ax.set_title(f'n: {n}')\n",
    "plt.legend()\n",
    "#fig.savefig(f'fixed_n_discrete_t_variable_S.png', dpi = 300)\n",
    "plt.show()"
   ]
  },
  {
   "cell_type": "code",
   "execution_count": null,
   "metadata": {},
   "outputs": [],
   "source": [
    "S = np.linspace(85, 115, 10000)\n",
    "t = 0.9\n",
    "n = [-60, -55, -50, -45, -40]\n",
    "K = 100\n",
    "colors = plt.cm.coolwarm(np.linspace(0, 1, len(n)))\n",
    "\n",
    "fig, ax = plt.subplots(figsize = (12, 8))\n",
    "for i, val in enumerate(n):\n",
    "    actions = generate_state_space_data(env, device, estimator, {'S': S, 't': t, 'n': val, 'K': K}, variable = 'S')\n",
    "    ax.plot(S, actions, lw = 1.5, label = f'n: {val}', color = colors[i])\n",
    "ax.set_xlabel('S')\n",
    "ax.set_ylabel('action')\n",
    "#ax.set_ylim([-100, 100])\n",
    "ax.set_title(f't: {t}')\n",
    "plt.legend()\n",
    "#fig.savefig(f'fixed_t_discrete_n_variable_S.png', dpi = 300)\n",
    "plt.show()"
   ]
  },
  {
   "cell_type": "code",
   "execution_count": null,
   "metadata": {},
   "outputs": [],
   "source": [
    "S = [80, 90, 100, 110, 120]\n",
    "t = 0.5\n",
    "n = np.linspace(-100, 100, 10000)\n",
    "K = 100\n",
    "colors = plt.cm.coolwarm(np.linspace(0, 1, len(S)))\n",
    "\n",
    "fig, ax = plt.subplots(figsize = (12, 8))\n",
    "for i, val in enumerate(S):\n",
    "    actions = generate_state_space_data(env, device, estimator, {'S': val, 't': t, 'n': n, 'K': K}, variable = 'n')\n",
    "    ax.plot(n, actions, lw = 1.5, label = f'S: {val}', color = colors[i])\n",
    "ax.set_xlabel('n')\n",
    "ax.set_ylabel('action')\n",
    "ax.set_ylim([-100, 100])\n",
    "ax.set_title(f't: {t}')\n",
    "plt.legend()\n",
    "#fig.savefig(f'fixed_t_discrete_S_variable_n.png', dpi = 300)\n",
    "plt.show()"
   ]
  },
  {
   "cell_type": "code",
   "execution_count": null,
   "metadata": {},
   "outputs": [],
   "source": [
    "S = 100\n",
    "t = [0.9, 0.7, 0.5, 0.3, 0.1]\n",
    "n = np.linspace(-100, 100, 10000)\n",
    "K = 100\n",
    "colors = plt.cm.coolwarm(np.linspace(0, 1, len(t)))\n",
    "\n",
    "fig, ax = plt.subplots(figsize = (12, 8))\n",
    "for i, val in enumerate(t):\n",
    "    actions = generate_state_space_data(env, device, estimator, {'S': S, 't': val, 'n': n, 'K': K}, variable = 'n')\n",
    "    ax.plot(n, actions, lw = 1.5, label = f't: {val}', color = colors[i])\n",
    "ax.set_xlabel('n')\n",
    "ax.set_ylabel('action')\n",
    "ax.set_ylim([-100, 100])\n",
    "ax.set_title(f'S: {S}')\n",
    "plt.legend()\n",
    "#fig.savefig(f'fixed_S_discrete_t_variable_n.png', dpi = 300)\n",
    "plt.show()"
   ]
  },
  {
   "cell_type": "code",
   "execution_count": null,
   "metadata": {},
   "outputs": [],
   "source": [
    "S = [80, 90, 100, 110, 120]\n",
    "t = np.linspace(0.9, 0, 10000)\n",
    "n = 0\n",
    "K = 100\n",
    "colors = plt.cm.coolwarm(np.linspace(0, 1, len(S)))\n",
    "\n",
    "fig, ax = plt.subplots(figsize = (12, 8))\n",
    "for i, val in enumerate(S):\n",
    "    actions = generate_state_space_data(env, device, estimator, {'S': val, 't': t, 'n': n, 'K': K}, variable = 't')\n",
    "    ax.plot(t, actions, lw = 1.5, label = f'S: {val}', color = colors[i])\n",
    "ax.set_xlabel('t')\n",
    "ax.set_ylabel('action')\n",
    "ax.set_ylim([-100, 100])\n",
    "ax.set_title(f'n: {n}')\n",
    "plt.legend()\n",
    "#fig.savefig(f'fixed_n_discrete_S_variable_t.png', dpi = 300)\n",
    "plt.show()"
   ]
  },
  {
   "cell_type": "code",
   "execution_count": null,
   "metadata": {},
   "outputs": [],
   "source": [
    "S = 100\n",
    "t = np.linspace(0.9, 0, 10000)\n",
    "n = [-100, -50, 0, 50, 100]\n",
    "K = 100\n",
    "colors = plt.cm.coolwarm(np.linspace(0, 1, len(n)))\n",
    "\n",
    "fig, ax = plt.subplots(figsize = (12, 8))\n",
    "for i, val in enumerate(n):\n",
    "    actions = generate_state_space_data(env, device, estimator, {'S': S, 't': t, 'n': val, 'K': K}, variable = 't')\n",
    "    ax.plot(t, actions, lw = 1.5, label = f'n: {val}', color = colors[i])\n",
    "ax.set_xlabel('t')\n",
    "ax.set_ylabel('action')\n",
    "ax.set_ylim([-100, 100])\n",
    "ax.set_title(f'S: {S}')\n",
    "plt.legend()\n",
    "#fig.savefig(f'fixed_S_discrete_n_variable_t.png', dpi = 300)\n",
    "plt.show()"
   ]
  },
  {
   "cell_type": "code",
   "execution_count": null,
   "metadata": {},
   "outputs": [],
   "source": []
  }
 ],
 "metadata": {
  "kernelspec": {
   "display_name": "Python 3",
   "language": "python",
   "name": "python3"
  },
  "language_info": {
   "codemirror_mode": {
    "name": "ipython",
    "version": 3
   },
   "file_extension": ".py",
   "mimetype": "text/x-python",
   "name": "python",
   "nbconvert_exporter": "python",
   "pygments_lexer": "ipython3",
   "version": "3.7.4"
  }
 },
 "nbformat": 4,
 "nbformat_minor": 4
}
