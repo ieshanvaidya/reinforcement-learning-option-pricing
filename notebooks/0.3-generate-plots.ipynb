{
 "cells": [
  {
   "cell_type": "code",
   "execution_count": null,
   "metadata": {},
   "outputs": [],
   "source": [
    "import os\n",
    "os.chdir(os.path.split(os.getcwd())[0])"
   ]
  },
  {
   "cell_type": "code",
   "execution_count": null,
   "metadata": {},
   "outputs": [],
   "source": [
    "import numpy as np\n",
    "import matplotlib.pyplot as plt\n",
    "import gym\n",
    "from agent import *\n",
    "from optionpricing import *\n",
    "import yaml\n",
    "import torch\n",
    "from collections import defaultdict"
   ]
  },
  {
   "cell_type": "code",
   "execution_count": null,
   "metadata": {},
   "outputs": [],
   "source": [
    "import matplotlib.style as style\n",
    "style.use('seaborn-poster')"
   ]
  },
  {
   "cell_type": "code",
   "execution_count": null,
   "metadata": {},
   "outputs": [],
   "source": [
    "def load_estimator(env, device, ngpu, experiment_folder, kind = 'best'):\n",
    "    \"\"\"\n",
    "    env: option pricing environment\n",
    "    device: torch device\n",
    "    ngpu: number of gpu\n",
    "    experiment_folder: name of experiment (as passed in --savedir)\n",
    "    kind: model to load; options- best, checkpoint\n",
    "    \"\"\"\n",
    "    state_shape = env.observation_space.shape\n",
    "    state_space_dim = state_shape[0] if len(state_shape) == 1 else state_shape\n",
    "    \n",
    "    estimator = Estimator(device, ngpu, state_space_dim, env.action_space.n)\n",
    "    if kind == 'best':\n",
    "        checkpoint = torch.load(os.path.join('experiments', experiment_folder, 'best.pth'))\n",
    "    elif kind == 'checkpoint':\n",
    "        checkpoint = torch.load(os.path.join('experiments', experiment_folder, 'checkpoint.pth'))\n",
    "    else:\n",
    "        raise ValueError('Invalid choice for kind')\n",
    "        \n",
    "    estimator.load_state_dict(checkpoint['estimator'])\n",
    "    estimator.eval()\n",
    "    \n",
    "    return estimator"
   ]
  },
  {
   "cell_type": "code",
   "execution_count": null,
   "metadata": {},
   "outputs": [],
   "source": [
    "def simulate_episode(env, device, estimator):\n",
    "    state = torch.from_numpy(env.reset()).to(device)\n",
    "    done = False\n",
    "    \n",
    "    history = defaultdict(list)\n",
    "    \n",
    "    while not done:\n",
    "        history['delta'].append(env.delta)\n",
    "        history['stock_value'].append(env.stock_value)\n",
    "        history['option_value'].append(env.option_value)\n",
    "        history['cash'].append(env.cash)\n",
    "        \n",
    "        with torch.no_grad():\n",
    "            action = np.argmax(estimator(state).numpy())\n",
    "        state, reward, done, info = env.step(action)\n",
    "        \n",
    "        history['reward'].append(reward)\n",
    "        history['n'].append(env.n)\n",
    "        try:\n",
    "            history['stock_pnl'].append(history['stock_value'][-1] - history['stock_value'][-2])\n",
    "            history['option_pnl'].append(history['option_value'][-1] + history['cash'][-1] - history['option_value'][-2] - history['cash'][-2])\n",
    "            history['total_pnl'].append(history['stock_pnl'][-1] + history['option_pnl'][-1])\n",
    "        except:\n",
    "            pass\n",
    "        \n",
    "        state = torch.from_numpy(state).to(device)\n",
    "        \n",
    "    history['stock_pnl'].append(history['stock_value'][-1] - history['stock_value'][-2])\n",
    "    history['option_pnl'].append(history['option_value'][-1] + history['cash'][-1] - history['option_value'][-2] - history['cash'][-2])\n",
    "    history['total_pnl'].append(history['stock_pnl'][-1] + history['option_pnl'][-1])\n",
    "    \n",
    "    history = {k: np.array(v) for k, v in history.items()}\n",
    "    \n",
    "    return history"
   ]
  },
  {
   "cell_type": "code",
   "execution_count": null,
   "metadata": {},
   "outputs": [],
   "source": [
    "def cost_volatility_kde(env, device, estimator):\n",
    "    pass"
   ]
  },
  {
   "cell_type": "code",
   "execution_count": null,
   "metadata": {},
   "outputs": [],
   "source": [
    "experiment_folder = 'Oct1_lr-high_ne-low_clip-inc'"
   ]
  },
  {
   "cell_type": "code",
   "execution_count": null,
   "metadata": {},
   "outputs": [],
   "source": [
    "config = {\n",
    "        'S': 100,\n",
    "        'T': 10, # 10 days\n",
    "        'L': 1,\n",
    "        'm': 100, # L options for m stocks\n",
    "        'n': 0,\n",
    "        'K': 100,\n",
    "        'D': 5,\n",
    "        'mu': 0,\n",
    "        'sigma': 0.01,\n",
    "        'r': 0,\n",
    "        'ss': 5,\n",
    "        'kappa': 0.1\n",
    "        }\n",
    "\n",
    "env = OptionPricingEnv()\n",
    "env.configure(**config)"
   ]
  },
  {
   "cell_type": "code",
   "execution_count": null,
   "metadata": {},
   "outputs": [],
   "source": [
    "device = torch.device('cuda:0' if torch.cuda.is_available() else 'cpu')\n",
    "ngpu = 1 if torch.cuda.is_available() else 0"
   ]
  },
  {
   "cell_type": "code",
   "execution_count": null,
   "metadata": {},
   "outputs": [],
   "source": [
    "state = env.reset()\n",
    "init_stock_price = env.S"
   ]
  },
  {
   "cell_type": "code",
   "execution_count": null,
   "metadata": {},
   "outputs": [],
   "source": [
    "estimator = load_estimator(env, device, ngpu, experiment_folder, 'best')"
   ]
  },
  {
   "cell_type": "code",
   "execution_count": null,
   "metadata": {},
   "outputs": [],
   "source": [
    "history['stock_value'] + history['option_value'] + history['cash']"
   ]
  },
  {
   "cell_type": "code",
   "execution_count": null,
   "metadata": {},
   "outputs": [],
   "source": [
    "#history = simulate_episode(env, device, estimator)\n",
    "steps = np.arange(1, len(history['delta']) + 1, 1)\n",
    "\n",
    "fig, ax = plt.subplots()\n",
    "ax.plot(steps, history['n'], color = 'blue', lw = 1.5, label = 'n')\n",
    "ax.plot(steps, history['delta'] * -env.L * env.m, color = 'green', lw = 1.5, label = 'delta')\n",
    "ax.plot(steps, history['option_pnl'] / init_stock_price, color = 'darkviolet', lw = 1.5, label = 'option.pnl')\n",
    "ax.plot(steps, history['stock_pnl'] / init_stock_price, color = 'darkorange', lw = 1.5, label = 'stock.pnl')\n",
    "ax.plot(steps, history['total_pnl'] / init_stock_price, color = 'red', lw = 1.5, label = 'total.pnl')\n",
    "plt.legend()\n",
    "plt.show()"
   ]
  },
  {
   "cell_type": "code",
   "execution_count": null,
   "metadata": {},
   "outputs": [],
   "source": [
    "for k, v in history.items():\n",
    "    print(f'{k}: {len(v)}')"
   ]
  },
  {
   "cell_type": "code",
   "execution_count": null,
   "metadata": {},
   "outputs": [],
   "source": []
  }
 ],
 "metadata": {
  "kernelspec": {
   "display_name": "Python 3",
   "language": "python",
   "name": "python3"
  },
  "language_info": {
   "codemirror_mode": {
    "name": "ipython",
    "version": 3
   },
   "file_extension": ".py",
   "mimetype": "text/x-python",
   "name": "python",
   "nbconvert_exporter": "python",
   "pygments_lexer": "ipython3",
   "version": "3.7.4"
  }
 },
 "nbformat": 4,
 "nbformat_minor": 4
}
