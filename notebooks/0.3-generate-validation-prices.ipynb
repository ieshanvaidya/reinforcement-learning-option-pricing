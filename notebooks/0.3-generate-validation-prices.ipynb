{
 "cells": [
  {
   "cell_type": "code",
   "execution_count": 1,
   "metadata": {},
   "outputs": [],
   "source": [
    "import os"
   ]
  },
  {
   "cell_type": "code",
   "execution_count": 2,
   "metadata": {},
   "outputs": [],
   "source": [
    "os.chdir(os.path.split(os.getcwd())[0])"
   ]
  },
  {
   "cell_type": "code",
   "execution_count": 3,
   "metadata": {},
   "outputs": [],
   "source": [
    "import numpy as np\n",
    "import matplotlib.pyplot as plt\n",
    "import pickle"
   ]
  },
  {
   "cell_type": "code",
   "execution_count": 4,
   "metadata": {},
   "outputs": [],
   "source": [
    "seed = 1"
   ]
  },
  {
   "cell_type": "code",
   "execution_count": 5,
   "metadata": {},
   "outputs": [],
   "source": [
    "np.random.seed(seed)"
   ]
  },
  {
   "cell_type": "code",
   "execution_count": 6,
   "metadata": {},
   "outputs": [],
   "source": [
    "def generate_stock_prices(n):\n",
    "    stock_prices = {}\n",
    "    S = 100\n",
    "    K = 100\n",
    "    mu = 0\n",
    "    T = 10\n",
    "    sigma = 0.01 * np.sqrt(252)\n",
    "    D = 5\n",
    "    ss = 5\n",
    "\n",
    "    dt = 24 / 252 / D / ss\n",
    "\n",
    "    n_episodes = 10000\n",
    "    steps = T * D\n",
    "    \n",
    "    for i in range(1, n + 1):\n",
    "        prices = []\n",
    "        for step in range(steps):\n",
    "            ss_prices = []\n",
    "            for j in range(ss):\n",
    "                ds = mu * S * dt + sigma * S * np.random.normal() * np.sqrt(dt)\n",
    "                S = S + ds\n",
    "                ss_prices.append(S)\n",
    "            prices.append(ss_prices)\n",
    "        stock_prices[i] = prices\n",
    "        S = 100\n",
    "    \n",
    "    return stock_prices"
   ]
  },
  {
   "cell_type": "code",
   "execution_count": 7,
   "metadata": {},
   "outputs": [],
   "source": [
    "stock_prices = generate_stock_prices(10000)"
   ]
  },
  {
   "cell_type": "code",
   "execution_count": 8,
   "metadata": {},
   "outputs": [
    {
     "name": "stdout",
     "output_type": "stream",
     "text": [
      "[101.5915269228122, 100.98259094322077, 100.46000551418216, 99.4038792673251, 100.24674746799454]\n"
     ]
    }
   ],
   "source": [
    "print(stock_prices[1][0])"
   ]
  },
  {
   "cell_type": "code",
   "execution_count": 10,
   "metadata": {},
   "outputs": [],
   "source": [
    "with open(os.path.join('experiments', 'validation_stock_prices.pkl'), 'wb') as f:\n",
    "    pickle.dump(stock_prices, f)"
   ]
  },
  {
   "cell_type": "code",
   "execution_count": null,
   "metadata": {},
   "outputs": [],
   "source": []
  }
 ],
 "metadata": {
  "kernelspec": {
   "display_name": "Python 3",
   "language": "python",
   "name": "python3"
  },
  "language_info": {
   "codemirror_mode": {
    "name": "ipython",
    "version": 3
   },
   "file_extension": ".py",
   "mimetype": "text/x-python",
   "name": "python",
   "nbconvert_exporter": "python",
   "pygments_lexer": "ipython3",
   "version": "3.7.4"
  }
 },
 "nbformat": 4,
 "nbformat_minor": 4
}
