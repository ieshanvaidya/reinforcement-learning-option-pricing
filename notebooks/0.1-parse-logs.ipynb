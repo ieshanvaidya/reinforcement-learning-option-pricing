{
 "cells": [
  {
   "cell_type": "code",
   "execution_count": 1,
   "metadata": {},
   "outputs": [],
   "source": [
    "import os"
   ]
  },
  {
   "cell_type": "code",
   "execution_count": 2,
   "metadata": {},
   "outputs": [],
   "source": [
    "os.chdir(os.path.split(os.getcwd())[0])"
   ]
  },
  {
   "cell_type": "code",
   "execution_count": 3,
   "metadata": {},
   "outputs": [],
   "source": [
    "import numpy as np\n",
    "import pandas as pd\n",
    "import matplotlib.pyplot as plt"
   ]
  },
  {
   "cell_type": "code",
   "execution_count": 4,
   "metadata": {},
   "outputs": [],
   "source": [
    "import matplotlib.style as style"
   ]
  },
  {
   "cell_type": "code",
   "execution_count": 5,
   "metadata": {},
   "outputs": [],
   "source": [
    "style.use('seaborn-poster')"
   ]
  },
  {
   "cell_type": "markdown",
   "metadata": {},
   "source": [
    "### Parse raw logs and create DataFrame"
   ]
  },
  {
   "cell_type": "code",
   "execution_count": 6,
   "metadata": {},
   "outputs": [],
   "source": [
    "def parse_raw_log(log):\n",
    "    data = []\n",
    "    lines = log.split('\\n')\n",
    "    for line in lines[:-1]:\n",
    "        raw = line.split(': ')\n",
    "        if raw[0].split(', ')[1] == 'LOG':\n",
    "            entries = raw[1].split(', ')\n",
    "            datum = []\n",
    "            for entry in entries:\n",
    "                value = entry.split(':')[1]\n",
    "                try:\n",
    "                    datum.append(float(value))\n",
    "                except ValueError:\n",
    "                    datum.append(value)\n",
    "\n",
    "            data.append(datum)\n",
    "    \n",
    "    return data"
   ]
  },
  {
   "cell_type": "code",
   "execution_count": 13,
   "metadata": {},
   "outputs": [],
   "source": [
    "experiment_folder = 'Exp_Oct11_g0.3_bs128_clip100_highTrCost'\n",
    "log_path = os.path.join('experiments', experiment_folder, 'training.log')\n",
    "with open(log_path, 'r') as f:\n",
    "    log = f.read()\n",
    "    \n",
    "data = parse_raw_log(log)\n",
    "\n",
    "columns = ['episode', 'step', 'action', 'kind', 'epsilon', 'reward', 'best_mean_reward', 'loss']\n",
    "data_df = pd.DataFrame(data, columns = columns)\n",
    "data_df = data_df.astype({'episode': int, 'step': int, 'action': int})"
   ]
  },
  {
   "cell_type": "code",
   "execution_count": 14,
   "metadata": {},
   "outputs": [
    {
     "data": {
      "text/html": [
       "<div>\n",
       "<style scoped>\n",
       "    .dataframe tbody tr th:only-of-type {\n",
       "        vertical-align: middle;\n",
       "    }\n",
       "\n",
       "    .dataframe tbody tr th {\n",
       "        vertical-align: top;\n",
       "    }\n",
       "\n",
       "    .dataframe thead th {\n",
       "        text-align: right;\n",
       "    }\n",
       "</style>\n",
       "<table border=\"1\" class=\"dataframe\">\n",
       "  <thead>\n",
       "    <tr style=\"text-align: right;\">\n",
       "      <th></th>\n",
       "      <th>episode</th>\n",
       "      <th>step</th>\n",
       "      <th>action</th>\n",
       "      <th>kind</th>\n",
       "      <th>epsilon</th>\n",
       "      <th>reward</th>\n",
       "      <th>best_mean_reward</th>\n",
       "      <th>loss</th>\n",
       "    </tr>\n",
       "  </thead>\n",
       "  <tbody>\n",
       "    <tr>\n",
       "      <td>0</td>\n",
       "      <td>1</td>\n",
       "      <td>1</td>\n",
       "      <td>74</td>\n",
       "      <td>random</td>\n",
       "      <td>1.0</td>\n",
       "      <td>-2.769807</td>\n",
       "      <td>-inf</td>\n",
       "      <td>173.888962</td>\n",
       "    </tr>\n",
       "    <tr>\n",
       "      <td>1</td>\n",
       "      <td>1</td>\n",
       "      <td>2</td>\n",
       "      <td>62</td>\n",
       "      <td>random</td>\n",
       "      <td>1.0</td>\n",
       "      <td>-1.887707</td>\n",
       "      <td>-inf</td>\n",
       "      <td>174.893951</td>\n",
       "    </tr>\n",
       "    <tr>\n",
       "      <td>2</td>\n",
       "      <td>1</td>\n",
       "      <td>3</td>\n",
       "      <td>60</td>\n",
       "      <td>random</td>\n",
       "      <td>1.0</td>\n",
       "      <td>-2.537163</td>\n",
       "      <td>-inf</td>\n",
       "      <td>174.865494</td>\n",
       "    </tr>\n",
       "    <tr>\n",
       "      <td>3</td>\n",
       "      <td>1</td>\n",
       "      <td>4</td>\n",
       "      <td>156</td>\n",
       "      <td>random</td>\n",
       "      <td>1.0</td>\n",
       "      <td>-0.499003</td>\n",
       "      <td>-inf</td>\n",
       "      <td>171.764160</td>\n",
       "    </tr>\n",
       "    <tr>\n",
       "      <td>4</td>\n",
       "      <td>1</td>\n",
       "      <td>5</td>\n",
       "      <td>191</td>\n",
       "      <td>random</td>\n",
       "      <td>1.0</td>\n",
       "      <td>-16.470299</td>\n",
       "      <td>-inf</td>\n",
       "      <td>169.285278</td>\n",
       "    </tr>\n",
       "  </tbody>\n",
       "</table>\n",
       "</div>"
      ],
      "text/plain": [
       "   episode  step  action    kind  epsilon     reward  best_mean_reward  \\\n",
       "0        1     1      74  random      1.0  -2.769807              -inf   \n",
       "1        1     2      62  random      1.0  -1.887707              -inf   \n",
       "2        1     3      60  random      1.0  -2.537163              -inf   \n",
       "3        1     4     156  random      1.0  -0.499003              -inf   \n",
       "4        1     5     191  random      1.0 -16.470299              -inf   \n",
       "\n",
       "         loss  \n",
       "0  173.888962  \n",
       "1  174.893951  \n",
       "2  174.865494  \n",
       "3  171.764160  \n",
       "4  169.285278  "
      ]
     },
     "execution_count": 14,
     "metadata": {},
     "output_type": "execute_result"
    }
   ],
   "source": [
    "data_df.head()"
   ]
  },
  {
   "cell_type": "code",
   "execution_count": 15,
   "metadata": {},
   "outputs": [
    {
     "data": {
      "image/png": "[encoded data removed]",
      "text/plain": [
       "<Figure size 1008x720 with 2 Axes>"
      ]
     },
     "metadata": {
      "needs_background": "light"
     },
     "output_type": "display_data"
    }
   ],
   "source": [
    "fig, ax = plt.subplots(figsize = (14, 10), nrows = 2, ncols = 1, sharex = True)\n",
    "groupby_episode = data_df.groupby('episode').mean()\n",
    "rewards = data_df.groupby('episode').sum()['reward'].values[:-1]\n",
    "best_mean_reward = groupby_episode['best_mean_reward'].values[:-1]\n",
    "mean_loss = groupby_episode['loss'].values[:-1]\n",
    "\n",
    "ax[0].plot(np.arange(1, len(rewards) + 1), np.clip(rewards, -5000, None), label = 'reward', color = 'blue', lw = 0.2)\n",
    "ax[0].plot(np.arange(1, len(best_mean_reward) + 1), np.clip(best_mean_reward, -5000, None), label = 'best_mean_reward', color = 'red', lw = 1.5)\n",
    "ax[0].set_ylabel('reward')\n",
    "\n",
    "ax[1].plot(np.arange(1, len(mean_loss) + 1), mean_loss, label = 'loss', color = 'blue', lw = 1)\n",
    "ax[1].set_xlabel('episode')\n",
    "ax[1].set_ylabel('loss')\n",
    "plt.show()"
   ]
  },
  {
   "cell_type": "code",
   "execution_count": null,
   "metadata": {},
   "outputs": [],
   "source": []
  },
  {
   "cell_type": "code",
   "execution_count": null,
   "metadata": {},
   "outputs": [],
   "source": []
  }
 ],
 "metadata": {
  "kernelspec": {
   "display_name": "Python 3",
   "language": "python",
   "name": "python3"
  },
  "language_info": {
   "codemirror_mode": {
    "name": "ipython",
    "version": 3
   },
   "file_extension": ".py",
   "mimetype": "text/x-python",
   "name": "python",
   "nbconvert_exporter": "python",
   "pygments_lexer": "ipython3",
   "version": "3.7.4"
  }
 },
 "nbformat": 4,
 "nbformat_minor": 4
}
